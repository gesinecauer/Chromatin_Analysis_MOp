{
 "cells": [
  {
   "cell_type": "code",
   "execution_count": 39,
   "id": "fbf9b6a9-f508-4ed1-992b-4e032b082d49",
   "metadata": {},
   "outputs": [
    {
     "name": "stderr",
     "output_type": "stream",
     "text": [
      "--2025-04-02 15:48:57--  https://data.4dnucleome.org/experiment-set-replicates/4DNESMTNNB3N/?format=json\n",
      "Resolving data.4dnucleome.org (data.4dnucleome.org)... 44.216.117.86, 35.153.217.76\n",
      "Connecting to data.4dnucleome.org (data.4dnucleome.org)|44.216.117.86|:443... connected.\n",
      "HTTP request sent, awaiting response... 200 OK\n",
      "Length: 80343 (78K) [application/json]\n",
      "Saving to: ‘../data/MOp_wt/metadata/MOp_wt.metadata.json.temp’\n",
      "\n",
      "     0K .......... .......... .......... .......... .......... 63%  829K 0s\n",
      "    50K .......... .......... ........                        100%  129M=0.06s\n",
      "\n",
      "2025-04-02 15:48:58 (1.27 MB/s) - ‘../data/MOp_wt/metadata/MOp_wt.metadata.json.temp’ saved [80343/80343]\n",
      "\n"
     ]
    }
   ],
   "source": [
    "%%bash\n",
    "\n",
    "wget -O ../data/MOp_wt/metadata/MOp_wt.metadata.json https://data.4dnucleome.org/experiment-set-replicates/4DNESMTNNB3N/?format=json"
   ]
  },
  {
   "cell_type": "code",
   "execution_count": 76,
   "id": "4cbda770-baf3-4bd7-9a9a-2309072d0e43",
   "metadata": {},
   "outputs": [
    {
     "data": {
      "text/plain": [
       "dict_keys(['lab', 'award', 'status', 'aliases', 'accession', 'condition', 'description', 'date_created', 'submitted_by', 'dataset_label', 'last_modified', 'public_release', 'replicate_exps', 'schema_version', 'static_headers', 'project_release', 'experiments_in_set', 'experimentset_type', '@id', '@type', 'uuid', 'principals_allowed', 'display_title', 'external_references', 'produced_in_pub', 'pubs_using', 'publications_of_set', 'number_of_experiments', 'imaging_paths', '@context', 'aggregated-items', 'validation-errors'])"
      ]
     },
     "execution_count": 76,
     "metadata": {},
     "output_type": "execute_result"
    }
   ],
   "source": [
    "import json\n",
    "import pandas as pd\n",
    "import os\n",
    "\n",
    "data_dir = '../data'\n",
    "sample = 'MOp_wt'\n",
    "metadata_file_json = os.path.join(data_dir, sample, 'metadata/MOp_wt.metadata.json')\n",
    "metadata_file_txt = os.path.join(data_dir, sample, 'metadata/MOp_wt.metadata.txt')\n",
    "\n",
    "with open(metadata_file, 'r') as file:\n",
    "    metadata = json.load(file)\n",
    "\n",
    "metadata.keys()"
   ]
  },
  {
   "cell_type": "code",
   "execution_count": 14,
   "id": "8bb22643-7a04-422a-b135-3c324c7c677f",
   "metadata": {},
   "outputs": [
    {
     "data": {
      "text/plain": [
       "'Genome-wide chromatin imaging by DNA-MERFISH of 2000 loci in mouse primary motor cortex, together with RNA-MERFISH of 240 gene transcripts'"
      ]
     },
     "execution_count": 14,
     "metadata": {},
     "output_type": "execute_result"
    }
   ],
   "source": [
    "metadata['description']"
   ]
  },
  {
   "cell_type": "code",
   "execution_count": 15,
   "id": "9ad78896-ab29-4131-aa7a-c2b96366b75a",
   "metadata": {},
   "outputs": [
    {
     "data": {
      "text/plain": [
       "'Mouse primary motor cortex - Wild type'"
      ]
     },
     "execution_count": 15,
     "metadata": {},
     "output_type": "execute_result"
    }
   ],
   "source": [
    "metadata['condition']"
   ]
  },
  {
   "cell_type": "code",
   "execution_count": 16,
   "id": "ce3c3426-69ae-4d97-bde8-b0a159804892",
   "metadata": {},
   "outputs": [
    {
     "data": {
      "text/plain": [
       "'Chromatin tracing in mouse primary motor cortex'"
      ]
     },
     "execution_count": 16,
     "metadata": {},
     "output_type": "execute_result"
    }
   ],
   "source": [
    "metadata['dataset_label']"
   ]
  },
  {
   "cell_type": "code",
   "execution_count": 65,
   "id": "d7f53c46-f1fd-42b7-8de5-9875a9765d0e",
   "metadata": {},
   "outputs": [],
   "source": [
    "datafile_keys = ['file_type', 'replicate_info', 'last_modified.date_modified',\n",
    "                'open_data_url', 'md5sum']\n",
    "\n",
    "df = []\n",
    "for experiment in metadata['experiments_in_set']:\n",
    "    for datafile in experiment['processed_files']:\n",
    "        tmp = {\n",
    "            'experiment': experiment['accession'],\n",
    "            'replicate': datafile['track_and_facet_info']['replicate_info'],\n",
    "            'processed_file': datafile['accession'],\n",
    "            'file_type': datafile['file_type'],\n",
    "            'url': datafile['open_data_url'],\n",
    "            'md5sum': datafile['md5sum'],\n",
    "            'modified': datafile['last_modified']['date_modified'],\n",
    "        }\n",
    "        df.append(tmp)\n",
    "\n",
    "df = pd.DataFrame(df)\n",
    "df['modified'] = df.modified.str.replace(r'T.*', '', regex=True)"
   ]
  },
  {
   "cell_type": "code",
   "execution_count": 77,
   "id": "d2de16eb-1166-4d33-ae24-c57725f99f22",
   "metadata": {},
   "outputs": [],
   "source": [
    "rep = df.replicate.str.replace(' ', '', regex=False).str.replace(',', '_', regex=False).str.lower()\n",
    "data_type = df.file_type.str.replace('FOF-CT - ', '', regex=False).str.replace('[- /]', '_', regex=True).str.lower()\n",
    "df['path'] = sample + '/' + rep + '/' + data_type + '.csv'"
   ]
  },
  {
   "cell_type": "code",
   "execution_count": 78,
   "id": "9e18483b-2b8e-4adf-8827-f65dc4d3fb8a",
   "metadata": {},
   "outputs": [
    {
     "data": {
      "text/html": [
       "<div>\n",
       "<style scoped>\n",
       "    .dataframe tbody tr th:only-of-type {\n",
       "        vertical-align: middle;\n",
       "    }\n",
       "\n",
       "    .dataframe tbody tr th {\n",
       "        vertical-align: top;\n",
       "    }\n",
       "\n",
       "    .dataframe thead th {\n",
       "        text-align: right;\n",
       "    }\n",
       "</style>\n",
       "<table border=\"1\" class=\"dataframe\">\n",
       "  <thead>\n",
       "    <tr style=\"text-align: right;\">\n",
       "      <th></th>\n",
       "      <th>experiment</th>\n",
       "      <th>replicate</th>\n",
       "      <th>processed_file</th>\n",
       "      <th>file_type</th>\n",
       "      <th>url</th>\n",
       "      <th>md5sum</th>\n",
       "      <th>modified</th>\n",
       "      <th>path</th>\n",
       "    </tr>\n",
       "  </thead>\n",
       "  <tbody>\n",
       "    <tr>\n",
       "      <th>0</th>\n",
       "      <td>4DNEX4L6B8F2</td>\n",
       "      <td>Biorep 1, Techrep 1</td>\n",
       "      <td>4DNFIMCISOJB</td>\n",
       "      <td>FOF-CT - DNA-spot/trace core</td>\n",
       "      <td>https://4dn-open-data-public.s3.amazonaws.com/...</td>\n",
       "      <td>f533d39151d1717550c551a392495ed4</td>\n",
       "      <td>2024-02-22</td>\n",
       "      <td>MOp_wt/biorep1_techrep1/dna_spot_trace_core.csv</td>\n",
       "    </tr>\n",
       "    <tr>\n",
       "      <th>1</th>\n",
       "      <td>4DNEX4L6B8F2</td>\n",
       "      <td>Biorep 1, Techrep 1</td>\n",
       "      <td>4DNFIRPW731Q</td>\n",
       "      <td>FOF-CT - spot demultiplexing</td>\n",
       "      <td>https://4dn-open-data-public.s3.amazonaws.com/...</td>\n",
       "      <td>ec70d63851868065beb8643e8cd66147</td>\n",
       "      <td>2024-02-22</td>\n",
       "      <td>MOp_wt/biorep1_techrep1/spot_demultiplexing.csv</td>\n",
       "    </tr>\n",
       "    <tr>\n",
       "      <th>2</th>\n",
       "      <td>4DNEX4L6B8F2</td>\n",
       "      <td>Biorep 1, Techrep 1</td>\n",
       "      <td>4DNFIB4FD8RG</td>\n",
       "      <td>FOF-CT - RNA-spot</td>\n",
       "      <td>https://4dn-open-data-public.s3.amazonaws.com/...</td>\n",
       "      <td>c41b09e42f69130879d3adc213284fd0</td>\n",
       "      <td>2024-02-22</td>\n",
       "      <td>MOp_wt/biorep1_techrep1/rna_spot.csv</td>\n",
       "    </tr>\n",
       "    <tr>\n",
       "      <th>3</th>\n",
       "      <td>4DNEX4L6B8F2</td>\n",
       "      <td>Biorep 1, Techrep 1</td>\n",
       "      <td>4DNFIA7FUW8Y</td>\n",
       "      <td>FOF-CT - cell data</td>\n",
       "      <td>https://4dn-open-data-public.s3.amazonaws.com/...</td>\n",
       "      <td>0d68c908e4254ea9ce11451226f777b1</td>\n",
       "      <td>2024-02-22</td>\n",
       "      <td>MOp_wt/biorep1_techrep1/cell_data.csv</td>\n",
       "    </tr>\n",
       "    <tr>\n",
       "      <th>4</th>\n",
       "      <td>4DNEXZTUN9TK</td>\n",
       "      <td>Biorep 2, Techrep 1</td>\n",
       "      <td>4DNFIM9T6MT5</td>\n",
       "      <td>FOF-CT - DNA-spot/trace core</td>\n",
       "      <td>https://4dn-open-data-public.s3.amazonaws.com/...</td>\n",
       "      <td>09da2301168d3e347334245c7cd8cf0c</td>\n",
       "      <td>2024-02-22</td>\n",
       "      <td>MOp_wt/biorep2_techrep1/dna_spot_trace_core.csv</td>\n",
       "    </tr>\n",
       "    <tr>\n",
       "      <th>5</th>\n",
       "      <td>4DNEXZTUN9TK</td>\n",
       "      <td>Biorep 2, Techrep 1</td>\n",
       "      <td>4DNFIU2A38G8</td>\n",
       "      <td>FOF-CT - spot demultiplexing</td>\n",
       "      <td>https://4dn-open-data-public.s3.amazonaws.com/...</td>\n",
       "      <td>fec452e6056605636d84e419d8e5b405</td>\n",
       "      <td>2024-02-22</td>\n",
       "      <td>MOp_wt/biorep2_techrep1/spot_demultiplexing.csv</td>\n",
       "    </tr>\n",
       "    <tr>\n",
       "      <th>6</th>\n",
       "      <td>4DNEXZTUN9TK</td>\n",
       "      <td>Biorep 2, Techrep 1</td>\n",
       "      <td>4DNFI11UL1UQ</td>\n",
       "      <td>FOF-CT - RNA-spot</td>\n",
       "      <td>https://4dn-open-data-public.s3.amazonaws.com/...</td>\n",
       "      <td>4b1dc3d1a3215cc6445c75bd43c66bb5</td>\n",
       "      <td>2024-02-22</td>\n",
       "      <td>MOp_wt/biorep2_techrep1/rna_spot.csv</td>\n",
       "    </tr>\n",
       "    <tr>\n",
       "      <th>7</th>\n",
       "      <td>4DNEXZTUN9TK</td>\n",
       "      <td>Biorep 2, Techrep 1</td>\n",
       "      <td>4DNFI3R71II5</td>\n",
       "      <td>FOF-CT - cell data</td>\n",
       "      <td>https://4dn-open-data-public.s3.amazonaws.com/...</td>\n",
       "      <td>ca29c545bd528735c127fdfac0bda4da</td>\n",
       "      <td>2024-02-22</td>\n",
       "      <td>MOp_wt/biorep2_techrep1/cell_data.csv</td>\n",
       "    </tr>\n",
       "    <tr>\n",
       "      <th>8</th>\n",
       "      <td>4DNEX6ZNHHBS</td>\n",
       "      <td>Biorep 3, Techrep 1</td>\n",
       "      <td>4DNFIC62S1V9</td>\n",
       "      <td>FOF-CT - DNA-spot/trace core</td>\n",
       "      <td>https://4dn-open-data-public.s3.amazonaws.com/...</td>\n",
       "      <td>256f0185e60021ba2158ac0624015255</td>\n",
       "      <td>2024-02-22</td>\n",
       "      <td>MOp_wt/biorep3_techrep1/dna_spot_trace_core.csv</td>\n",
       "    </tr>\n",
       "    <tr>\n",
       "      <th>9</th>\n",
       "      <td>4DNEX6ZNHHBS</td>\n",
       "      <td>Biorep 3, Techrep 1</td>\n",
       "      <td>4DNFI2ZARXGH</td>\n",
       "      <td>FOF-CT - spot demultiplexing</td>\n",
       "      <td>https://4dn-open-data-public.s3.amazonaws.com/...</td>\n",
       "      <td>9807e4266f96c1a85c00869be522ef8b</td>\n",
       "      <td>2024-02-22</td>\n",
       "      <td>MOp_wt/biorep3_techrep1/spot_demultiplexing.csv</td>\n",
       "    </tr>\n",
       "    <tr>\n",
       "      <th>10</th>\n",
       "      <td>4DNEX6ZNHHBS</td>\n",
       "      <td>Biorep 3, Techrep 1</td>\n",
       "      <td>4DNFIA6VHY5L</td>\n",
       "      <td>FOF-CT - RNA-spot</td>\n",
       "      <td>https://4dn-open-data-public.s3.amazonaws.com/...</td>\n",
       "      <td>76ef4de76fd289d9a7382466f48e4241</td>\n",
       "      <td>2024-02-22</td>\n",
       "      <td>MOp_wt/biorep3_techrep1/rna_spot.csv</td>\n",
       "    </tr>\n",
       "    <tr>\n",
       "      <th>11</th>\n",
       "      <td>4DNEX6ZNHHBS</td>\n",
       "      <td>Biorep 3, Techrep 1</td>\n",
       "      <td>4DNFINMD8PA4</td>\n",
       "      <td>FOF-CT - cell data</td>\n",
       "      <td>https://4dn-open-data-public.s3.amazonaws.com/...</td>\n",
       "      <td>27f2a6e99a394952e7353647e0712ab6</td>\n",
       "      <td>2024-02-22</td>\n",
       "      <td>MOp_wt/biorep3_techrep1/cell_data.csv</td>\n",
       "    </tr>\n",
       "    <tr>\n",
       "      <th>12</th>\n",
       "      <td>4DNEXBUVZYLI</td>\n",
       "      <td>Biorep 3, Techrep 2</td>\n",
       "      <td>4DNFI78AIUP8</td>\n",
       "      <td>FOF-CT - DNA-spot/trace core</td>\n",
       "      <td>https://4dn-open-data-public.s3.amazonaws.com/...</td>\n",
       "      <td>0ea365ff08e96f4cdcad6f55c81304f4</td>\n",
       "      <td>2024-02-22</td>\n",
       "      <td>MOp_wt/biorep3_techrep2/dna_spot_trace_core.csv</td>\n",
       "    </tr>\n",
       "    <tr>\n",
       "      <th>13</th>\n",
       "      <td>4DNEXBUVZYLI</td>\n",
       "      <td>Biorep 3, Techrep 2</td>\n",
       "      <td>4DNFIZQHQASN</td>\n",
       "      <td>FOF-CT - spot demultiplexing</td>\n",
       "      <td>https://4dn-open-data-public.s3.amazonaws.com/...</td>\n",
       "      <td>e7ed1845d1bde128d946382cfcf99edf</td>\n",
       "      <td>2024-02-22</td>\n",
       "      <td>MOp_wt/biorep3_techrep2/spot_demultiplexing.csv</td>\n",
       "    </tr>\n",
       "    <tr>\n",
       "      <th>14</th>\n",
       "      <td>4DNEXBUVZYLI</td>\n",
       "      <td>Biorep 3, Techrep 2</td>\n",
       "      <td>4DNFIJGN6FJ5</td>\n",
       "      <td>FOF-CT - RNA-spot</td>\n",
       "      <td>https://4dn-open-data-public.s3.amazonaws.com/...</td>\n",
       "      <td>1a80c495c3468bcd3224d932b46dbc6e</td>\n",
       "      <td>2024-02-22</td>\n",
       "      <td>MOp_wt/biorep3_techrep2/rna_spot.csv</td>\n",
       "    </tr>\n",
       "    <tr>\n",
       "      <th>15</th>\n",
       "      <td>4DNEXBUVZYLI</td>\n",
       "      <td>Biorep 3, Techrep 2</td>\n",
       "      <td>4DNFICX8IVEK</td>\n",
       "      <td>FOF-CT - cell data</td>\n",
       "      <td>https://4dn-open-data-public.s3.amazonaws.com/...</td>\n",
       "      <td>f66afc5a37f24a876ccf26701728e5e5</td>\n",
       "      <td>2024-02-22</td>\n",
       "      <td>MOp_wt/biorep3_techrep2/cell_data.csv</td>\n",
       "    </tr>\n",
       "  </tbody>\n",
       "</table>\n",
       "</div>"
      ],
      "text/plain": [
       "      experiment            replicate processed_file  \\\n",
       "0   4DNEX4L6B8F2  Biorep 1, Techrep 1   4DNFIMCISOJB   \n",
       "1   4DNEX4L6B8F2  Biorep 1, Techrep 1   4DNFIRPW731Q   \n",
       "2   4DNEX4L6B8F2  Biorep 1, Techrep 1   4DNFIB4FD8RG   \n",
       "3   4DNEX4L6B8F2  Biorep 1, Techrep 1   4DNFIA7FUW8Y   \n",
       "4   4DNEXZTUN9TK  Biorep 2, Techrep 1   4DNFIM9T6MT5   \n",
       "5   4DNEXZTUN9TK  Biorep 2, Techrep 1   4DNFIU2A38G8   \n",
       "6   4DNEXZTUN9TK  Biorep 2, Techrep 1   4DNFI11UL1UQ   \n",
       "7   4DNEXZTUN9TK  Biorep 2, Techrep 1   4DNFI3R71II5   \n",
       "8   4DNEX6ZNHHBS  Biorep 3, Techrep 1   4DNFIC62S1V9   \n",
       "9   4DNEX6ZNHHBS  Biorep 3, Techrep 1   4DNFI2ZARXGH   \n",
       "10  4DNEX6ZNHHBS  Biorep 3, Techrep 1   4DNFIA6VHY5L   \n",
       "11  4DNEX6ZNHHBS  Biorep 3, Techrep 1   4DNFINMD8PA4   \n",
       "12  4DNEXBUVZYLI  Biorep 3, Techrep 2   4DNFI78AIUP8   \n",
       "13  4DNEXBUVZYLI  Biorep 3, Techrep 2   4DNFIZQHQASN   \n",
       "14  4DNEXBUVZYLI  Biorep 3, Techrep 2   4DNFIJGN6FJ5   \n",
       "15  4DNEXBUVZYLI  Biorep 3, Techrep 2   4DNFICX8IVEK   \n",
       "\n",
       "                       file_type  \\\n",
       "0   FOF-CT - DNA-spot/trace core   \n",
       "1   FOF-CT - spot demultiplexing   \n",
       "2              FOF-CT - RNA-spot   \n",
       "3             FOF-CT - cell data   \n",
       "4   FOF-CT - DNA-spot/trace core   \n",
       "5   FOF-CT - spot demultiplexing   \n",
       "6              FOF-CT - RNA-spot   \n",
       "7             FOF-CT - cell data   \n",
       "8   FOF-CT - DNA-spot/trace core   \n",
       "9   FOF-CT - spot demultiplexing   \n",
       "10             FOF-CT - RNA-spot   \n",
       "11            FOF-CT - cell data   \n",
       "12  FOF-CT - DNA-spot/trace core   \n",
       "13  FOF-CT - spot demultiplexing   \n",
       "14             FOF-CT - RNA-spot   \n",
       "15            FOF-CT - cell data   \n",
       "\n",
       "                                                  url  \\\n",
       "0   https://4dn-open-data-public.s3.amazonaws.com/...   \n",
       "1   https://4dn-open-data-public.s3.amazonaws.com/...   \n",
       "2   https://4dn-open-data-public.s3.amazonaws.com/...   \n",
       "3   https://4dn-open-data-public.s3.amazonaws.com/...   \n",
       "4   https://4dn-open-data-public.s3.amazonaws.com/...   \n",
       "5   https://4dn-open-data-public.s3.amazonaws.com/...   \n",
       "6   https://4dn-open-data-public.s3.amazonaws.com/...   \n",
       "7   https://4dn-open-data-public.s3.amazonaws.com/...   \n",
       "8   https://4dn-open-data-public.s3.amazonaws.com/...   \n",
       "9   https://4dn-open-data-public.s3.amazonaws.com/...   \n",
       "10  https://4dn-open-data-public.s3.amazonaws.com/...   \n",
       "11  https://4dn-open-data-public.s3.amazonaws.com/...   \n",
       "12  https://4dn-open-data-public.s3.amazonaws.com/...   \n",
       "13  https://4dn-open-data-public.s3.amazonaws.com/...   \n",
       "14  https://4dn-open-data-public.s3.amazonaws.com/...   \n",
       "15  https://4dn-open-data-public.s3.amazonaws.com/...   \n",
       "\n",
       "                              md5sum    modified  \\\n",
       "0   f533d39151d1717550c551a392495ed4  2024-02-22   \n",
       "1   ec70d63851868065beb8643e8cd66147  2024-02-22   \n",
       "2   c41b09e42f69130879d3adc213284fd0  2024-02-22   \n",
       "3   0d68c908e4254ea9ce11451226f777b1  2024-02-22   \n",
       "4   09da2301168d3e347334245c7cd8cf0c  2024-02-22   \n",
       "5   fec452e6056605636d84e419d8e5b405  2024-02-22   \n",
       "6   4b1dc3d1a3215cc6445c75bd43c66bb5  2024-02-22   \n",
       "7   ca29c545bd528735c127fdfac0bda4da  2024-02-22   \n",
       "8   256f0185e60021ba2158ac0624015255  2024-02-22   \n",
       "9   9807e4266f96c1a85c00869be522ef8b  2024-02-22   \n",
       "10  76ef4de76fd289d9a7382466f48e4241  2024-02-22   \n",
       "11  27f2a6e99a394952e7353647e0712ab6  2024-02-22   \n",
       "12  0ea365ff08e96f4cdcad6f55c81304f4  2024-02-22   \n",
       "13  e7ed1845d1bde128d946382cfcf99edf  2024-02-22   \n",
       "14  1a80c495c3468bcd3224d932b46dbc6e  2024-02-22   \n",
       "15  f66afc5a37f24a876ccf26701728e5e5  2024-02-22   \n",
       "\n",
       "                                               path  \n",
       "0   MOp_wt/biorep1_techrep1/dna_spot_trace_core.csv  \n",
       "1   MOp_wt/biorep1_techrep1/spot_demultiplexing.csv  \n",
       "2              MOp_wt/biorep1_techrep1/rna_spot.csv  \n",
       "3             MOp_wt/biorep1_techrep1/cell_data.csv  \n",
       "4   MOp_wt/biorep2_techrep1/dna_spot_trace_core.csv  \n",
       "5   MOp_wt/biorep2_techrep1/spot_demultiplexing.csv  \n",
       "6              MOp_wt/biorep2_techrep1/rna_spot.csv  \n",
       "7             MOp_wt/biorep2_techrep1/cell_data.csv  \n",
       "8   MOp_wt/biorep3_techrep1/dna_spot_trace_core.csv  \n",
       "9   MOp_wt/biorep3_techrep1/spot_demultiplexing.csv  \n",
       "10             MOp_wt/biorep3_techrep1/rna_spot.csv  \n",
       "11            MOp_wt/biorep3_techrep1/cell_data.csv  \n",
       "12  MOp_wt/biorep3_techrep2/dna_spot_trace_core.csv  \n",
       "13  MOp_wt/biorep3_techrep2/spot_demultiplexing.csv  \n",
       "14             MOp_wt/biorep3_techrep2/rna_spot.csv  \n",
       "15            MOp_wt/biorep3_techrep2/cell_data.csv  "
      ]
     },
     "execution_count": 78,
     "metadata": {},
     "output_type": "execute_result"
    }
   ],
   "source": [
    "df"
   ]
  },
  {
   "cell_type": "code",
   "execution_count": 81,
   "id": "2c9833f4-1faf-4ed0-8a4f-f1ab87200d1c",
   "metadata": {},
   "outputs": [
    {
     "data": {
      "text/plain": [
       "'experiment replicate processed_file file_type url md5sum modified path'"
      ]
     },
     "execution_count": 81,
     "metadata": {},
     "output_type": "execute_result"
    }
   ],
   "source": [
    "' '.join(df.columns)"
   ]
  },
  {
   "cell_type": "code",
   "execution_count": 82,
   "id": "0ddcdabb-7264-4876-ab7e-542bf3f877e7",
   "metadata": {},
   "outputs": [
    {
     "name": "stdout",
     "output_type": "stream",
     "text": [
      "../data/MOp_wt/metadata/MOp_wt.metadata.txt\n"
     ]
    }
   ],
   "source": [
    "df.to_csv(metadata_file_txt, sep='\\t', index=None)\n",
    "print(metadata_file_txt)"
   ]
  },
  {
   "cell_type": "code",
   "execution_count": 103,
   "id": "10189111-0069-419d-b05b-eccefaa1a07d",
   "metadata": {},
   "outputs": [],
   "source": [
    "%%bash\n",
    "\n",
    "metadata_file_txt='../data/MOp_wt/metadata/MOp_wt.metadata.txt'\n",
    "\n",
    "while IFS=$'\\t' read experiment replicate processed_file file_type url md5sum modified path; do\n",
    "    if [[ \"$experiment\" == \"experiment\" ]]; then\n",
    "        continue  # Skip header\n",
    "    fi\n",
    "    if [[ \"$file_type\" == *\"RNA\"* ]] || [[ \"$file_type\" == *\"demultiplexing\"* ]]; then\n",
    "        continue # Skip unwanted data\n",
    "    fi\n",
    "    outfile=\"../data/$path\"\n",
    "    mkdir -p $(dirname \"$outfile\")\n",
    "    if [ ! -f \"$outfile\" ]; then\n",
    "        echo \"Downloading: $path\"\n",
    "        wget -O \"$outfile\" \"$url\" > /dev/null 2>&1\n",
    "    fi\n",
    "    md5sum_check=$( md5sum \"$outfile\" | awk '{print $1}' )\n",
    "    if [[ \"$md5sum_check\" != \"$md5sum\" ]]; then\n",
    "        echo -e \"ERROR: md5sum does not match for $path!!\\ncorrect: $md5sum\\ncurrent: $md5sum_check\" >&2\n",
    "    fi\n",
    "done < \"$metadata_file_txt\""
   ]
  },
  {
   "cell_type": "code",
   "execution_count": null,
   "id": "bf2b1ce4-3893-43c6-a5fb-09d8d2ee07aa",
   "metadata": {},
   "outputs": [],
   "source": []
  }
 ],
 "metadata": {
  "kernelspec": {
   "display_name": "Python 3 (ipykernel)",
   "language": "python",
   "name": "python3"
  },
  "language_info": {
   "codemirror_mode": {
    "name": "ipython",
    "version": 3
   },
   "file_extension": ".py",
   "mimetype": "text/x-python",
   "name": "python",
   "nbconvert_exporter": "python",
   "pygments_lexer": "ipython3",
   "version": "3.11.11"
  }
 },
 "nbformat": 4,
 "nbformat_minor": 5
}
