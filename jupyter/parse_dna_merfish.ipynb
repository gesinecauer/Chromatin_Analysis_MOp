{
 "cells": [
  {
   "cell_type": "markdown",
   "id": "451bb600-2b77-4066-abf1-ad64114af77f",
   "metadata": {
    "jp-MarkdownHeadingCollapsed": true
   },
   "source": [
    "# Links"
   ]
  },
  {
   "cell_type": "markdown",
   "id": "38fd8edd-2a51-46fe-9e1e-4a0d16407c46",
   "metadata": {},
   "source": [
    "- [Liu 2025: Cell type–specific 3D-genome organization and transcription regulation in the brain](https://www.science.org/doi/10.1126/sciadv.adv2067)\n",
    "- [GitHub repo for Liu 2025](https://github.com/ZhuangLab/Chromatin_Analysis_MOp/)"
   ]
  },
  {
   "cell_type": "markdown",
   "id": "ae52cdca-9284-45f1-8960-b34729de8b2a",
   "metadata": {},
   "source": [
    "# Processing FOF-CT files"
   ]
  },
  {
   "cell_type": "markdown",
   "id": "1a07ede4-a59a-44c9-82cc-3406576f1f8d",
   "metadata": {
    "jp-MarkdownHeadingCollapsed": true
   },
   "source": [
    "## Docs"
   ]
  },
  {
   "cell_type": "markdown",
   "id": "f4bff669-bbc1-44e8-99fd-cb24bda20510",
   "metadata": {},
   "source": [
    "- [Docs: 4DN FISH Omics Format - Chromatin Tracing (FOF-CT)](https://fish-omics-format.readthedocs.io/en/latest/)\n",
    "- [DNA-Spot/Trace Data core table](https://fish-omics-format.readthedocs.io/en/latest/core.html)\n",
    "- [Cell Data table](https://fish-omics-format.readthedocs.io/en/latest/cell.html)\n",
    "\n",
    "Note: FOV = 'fields of view'"
   ]
  },
  {
   "cell_type": "markdown",
   "id": "7a2936a1-01a0-44b5-b8d6-00c9b670c861",
   "metadata": {
    "jp-MarkdownHeadingCollapsed": true
   },
   "source": [
    "## Examining files"
   ]
  },
  {
   "cell_type": "markdown",
   "id": "ff9f0cfe-88ec-4dd3-888c-f0c02707c32f",
   "metadata": {
    "jp-MarkdownHeadingCollapsed": true
   },
   "source": [
    "### Examining DNA-Spot/Trace Data core table"
   ]
  },
  {
   "cell_type": "code",
   "execution_count": 16,
   "id": "b5313b7c-3f19-423f-b00c-e73f16e21830",
   "metadata": {},
   "outputs": [
    {
     "name": "stdout",
     "output_type": "stream",
     "text": [
      "23 header lines, including col labels\n",
      "22 header lines, excluding col labels\n",
      "\n",
      "Column labels:\n",
      "1\tSpot_ID\n",
      "2\tTrace_ID\n",
      "3\tX\n",
      "4\tY\n",
      "5\tZ\n",
      "6\tChrom\n",
      "7\tChrom_Start\n",
      "8\tChrom_End\n",
      "9\tChrom_order\n",
      "10\tCell_ID\n",
      "11\tFOV_ID\n",
      "12\tCellID_byFOV\n",
      "13\tRNA_experiment_ID\n",
      "14\tDNA_experiment_ID\n",
      "15\tSample_ID\n",
      "\n",
      "Column label desc:\n",
      "##XYZ_unit=nm\n",
      "#Spot_ID:unique DNA spot identifier across 4dn_FOF-CT_core and 4dn_FOF-CT_demultiplxeing for the same replicate\n",
      "#Trace_ID:number format as fovXX_cellXX_chrXX_chromatidXX\n",
      "#Chrom_order:order of DNA region on its respective chromosome\n",
      "#Cell_ID:unique cell identifier across the datatables\n",
      "#FOV:FOV ID across datatables for the same replicate\n",
      "#CellID_byFOVspecific cell identifier relative to the FOV\n"
     ]
    }
   ],
   "source": [
    "%%bash\n",
    "\n",
    "sample_dir=\"$HOME/noble_lab/repos/Chromatin_Analysis_MOp/data/MOp_wt\"\n",
    "cd \"$sample_dir/biorep1_techrep1\"\n",
    "\n",
    "# # ==== Examine header info\n",
    "\n",
    "# Number of header lines\n",
    "echo $(grep '^[\"#]' dna_spot_trace_core.csv | wc -l)\" header lines, including col labels\"\n",
    "echo $(grep ',,,' dna_spot_trace_core.csv | wc -l)\" header lines, excluding col labels\"\n",
    "\n",
    "# Column labels\n",
    "echo -e \"\\nColumn labels:\"\n",
    "grep -v ',,,' dna_spot_trace_core.csv | head -n 1 | sed 's/.*(//;s/).*//' | tr ',' '\\n' | awk 'BEGIN{c=1}{print c \"\\t\" $0; c += 1}'\n",
    "\n",
    "# Column label desc\n",
    "echo -e \"\\nColumn label desc:\"\n",
    "grep ',,,' dna_spot_trace_core.csv | tail -n 7 | sed 's/,,*//g'"
   ]
  },
  {
   "cell_type": "code",
   "execution_count": 9,
   "id": "6cbc752b-5ecc-4bbc-8cf6-4a0a413d50b5",
   "metadata": {},
   "outputs": [
    {
     "name": "stdout",
     "output_type": "stream",
     "text": [
      "Uniqueness of cells\n",
      "12725 unique combos of 'Cell_ID, FOV_ID, CellID_byFOV'\n",
      "12725 unique 'Cell_ID'\n",
      "12725 unique combos of 'FOV_ID, CellID_byFOV'\n",
      "253 unique 'CellID_byFOV'\n",
      "148 unique 'FOV_ID'\n",
      "\n",
      "Uniqueness of rows\n",
      "8258329 unique 'rows'\n",
      "8258329 unique 'Spot_ID'\n",
      "8258329 unique combos of 'Trace_ID, Chrom_order'\n"
     ]
    }
   ],
   "source": [
    "%%bash\n",
    "\n",
    "sample_dir=\"$HOME/noble_lab/repos/Chromatin_Analysis_MOp/data/MOp_wt\"\n",
    "cd \"$sample_dir/biorep1_techrep1\"\n",
    "\n",
    "# ==== Check uniqueness of cells\n",
    "echo -e \"Uniqueness of cells\"\n",
    "echo $(grep -v '^[\"#]' dna_spot_trace_core.csv | cut -d ',' -f 10-12 | sort | uniq | wc -l)\" unique combos of 'Cell_ID, FOV_ID, CellID_byFOV'\"\n",
    "echo $(grep -v '^[\"#]' dna_spot_trace_core.csv | cut -d ',' -f 10 | sort | uniq | wc -l)\" unique 'Cell_ID'\"\n",
    "echo $(grep -v '^[\"#]' dna_spot_trace_core.csv | cut -d ',' -f 11-12 | sort | uniq | wc -l)\" unique combos of 'FOV_ID, CellID_byFOV'\"\n",
    "echo $(grep -v '^[\"#]' dna_spot_trace_core.csv | cut -d ',' -f 12 | sort | uniq | wc -l)\" unique 'CellID_byFOV'\"\n",
    "echo $(grep -v '^[\"#]' dna_spot_trace_core.csv | cut -d ',' -f 11 | sort | uniq | wc -l)\" unique 'FOV_ID'\"\n",
    "\n",
    "\n",
    "# ==== Check uniqueness of rows\n",
    "echo -e \"\\nUniqueness of rows\"\n",
    "echo $(grep -v '^[\"#]' dna_spot_trace_core.csv | wc -l)\" unique 'rows'\"\n",
    "echo $(grep -v '^[\"#]' dna_spot_trace_core.csv | cut -d ',' -f 1 | sort | uniq | wc -l)\" unique 'Spot_ID'\"\n",
    "echo $(grep -v '^[\"#]' dna_spot_trace_core.csv | cut -d ',' -f 2,9 | sort | uniq | wc -l)\" unique combos of 'Trace_ID, Chrom_order'\"\n"
   ]
  },
  {
   "cell_type": "code",
   "execution_count": 11,
   "id": "99d734ab-adf4-4c6f-a20a-46850c468539",
   "metadata": {},
   "outputs": [
    {
     "name": "stdout",
     "output_type": "stream",
     "text": [
      "✓ Chromosome component of 'Trace_ID' (fovXX_cellXX_chrXX_chromatidXX) corresponds to the 'Chrom' column\n",
      "\n",
      "Size of each region: (1st 10 lines)\n",
      "8595\n",
      "8623\n",
      "11242\n",
      "10504\n",
      "8112\n",
      "9570\n",
      "8405\n",
      "7269\n",
      "8405\n",
      "7187\n"
     ]
    }
   ],
   "source": [
    "%%bash\n",
    "\n",
    "sample_dir=\"$HOME/noble_lab/repos/Chromatin_Analysis_MOp/data/MOp_wt\"\n",
    "cd \"$sample_dir/biorep1_techrep1\"\n",
    "\n",
    "# ==== Check that the chromosome component of 'Trace_ID' (fovXX_cellXX_chrXX_chromatidXX) corresponds to the 'Chrom' column\n",
    "ndiff=$(awk -F '[,_]' '{ if ($1 !~ /^[#\"]/){ gsub(/chr/, \"\", $9); if ($4 != $9) { print $4 \"\\t\" $9 } } }' dna_spot_trace_core.csv | wc -l)\n",
    "if [[ $ndiff -eq 0 ]]; then\n",
    "    echo \"✓ Chromosome component of 'Trace_ID' (fovXX_cellXX_chrXX_chromatidXX) corresponds to the 'Chrom' column\"\n",
    "else\n",
    "    echo \"✗ Chromosome component of 'Trace_ID' (fovXX_cellXX_chrXX_chromatidXX) does NOT correspond to the 'Chrom' column for $ndiff lines\"\n",
    "fi\n",
    "\n",
    "\n",
    "# ==== Examine size of each region\n",
    "echo -e \"\\nSize of each region: (1st 10 lines)\"\n",
    "awk -F ',' '{ if ($1 !~ /^[#\"]/){ print $8 - $7 } }' dna_spot_trace_core.csv | head"
   ]
  },
  {
   "cell_type": "markdown",
   "id": "7ee6f0c7-0cb9-421b-804c-2a1924359bae",
   "metadata": {
    "jp-MarkdownHeadingCollapsed": true
   },
   "source": [
    "### Examining Cell Data table"
   ]
  },
  {
   "cell_type": "code",
   "execution_count": 55,
   "id": "05a3c872-405a-445e-bbc4-f09e5aa645ba",
   "metadata": {},
   "outputs": [
    {
     "name": "stdout",
     "output_type": "stream",
     "text": [
      "23 header lines, including col labels\n",
      "22 header lines, excluding col labels\n",
      "\n",
      "Column labels (excluding 242 gene xp columns):\n",
      "1\tCell_ID\n",
      "2\tFOV_ID\n",
      "3\tcell_volume_from_merlin\n",
      "4\tcell_center_x_global\n",
      "5\tcell_center_y_global\n",
      "6\tRNA_experiment_ID\n",
      "7\tSample_ID\n",
      "8\tcluster_subclass\n",
      "9\tcluster_class\n",
      "10\tneuron_identity\n",
      "\n",
      "Column label desc:\n",
      "##XYZ_unit=micron\n",
      "#Cell_ID:unique cell identifier across the datatables\n",
      "#cell_center_x_global:x coordinate of the cell relative to all cells for the experiment replicate\n",
      "#cell_center_y_global:y coordinate of the cell relative to all cells for the experiment replicate\n",
      "#cluster_subclass:transcriptionally defined cell cluster lable at subclass level\n",
      "#cluster_class:transcriptionally defined cell cluster lable at a higer level\n",
      "\"#RNA count for gene A:decoded raw RNA count for gene A (e.g. gene 1700022I11Rik)\"\n"
     ]
    }
   ],
   "source": [
    "%%bash\n",
    "\n",
    "sample_dir=\"$HOME/noble_lab/repos/Chromatin_Analysis_MOp/data/MOp_wt\"\n",
    "cd \"$sample_dir/biorep1_techrep1\"\n",
    "\n",
    "# # ==== Examine header info\n",
    "\n",
    "# Number of header lines\n",
    "echo $(grep '^[\"#]' cell_data.csv | wc -l)\" header lines, including col labels\"\n",
    "echo $(grep ',,,' cell_data.csv | wc -l)\" header lines, excluding col labels\"\n",
    "\n",
    "# Column labels\n",
    "ncols_gene=$( grep -v ',,,' cell_data.csv | head -n 1 | sed 's/.*neuron_identity,//' | tr ',' '\\n' | wc -l )\n",
    "echo -e \"\\nColumn labels (excluding $ncols_gene gene xp columns):\"\n",
    "grep -v ',,,' cell_data.csv | head -n 1 | sed 's/neuron_identity,.*/neuron_identity/;s/.*(//;s/).*//' | tr ',' '\\n' | awk 'BEGIN{c=1}{print c \"\\t\" $0; c += 1}'\n",
    "\n",
    "# Column label desc\n",
    "echo -e \"\\nColumn label desc:\"\n",
    "grep ',,,' cell_data.csv | tail -n 7 | sed 's/,,*//g'"
   ]
  },
  {
   "cell_type": "code",
   "execution_count": 116,
   "id": "121d7a70-24a4-48b0-8e59-b23dfbbb7512",
   "metadata": {},
   "outputs": [
    {
     "name": "stdout",
     "output_type": "stream",
     "text": [
      "17856 cells (lines)\n",
      "\n",
      "22 clusters (only via 'cluster_subclass')\n",
      "22 clusters (via combo of 'cluster_subclass, cluster_class, neuron_identity'):\n",
      "2184\tL2/3IT,Gluta,Neuronal\n",
      "1803\tAstro,Astro,Non-Neuronal\n",
      "1741\tL6CT,Gluta,Neuronal\n",
      "1474\tL5IT,Gluta,Neuronal\n",
      "1294\tother,other,other\n",
      "1088\tL5ET,Gluta,Neuronal\n",
      "1039\tEndo,Endo,Non-Neuronal\n",
      "1029\tL4/5IT,Gluta,Neuronal\n",
      "1029\tOPC,Oligo,Non-Neuronal\n",
      "972\tOligo,Oligo,Non-Neuronal\n",
      "789\tL6IT,Gluta,Neuronal\n",
      "711\tMicro,Micro,Non-Neuronal\n",
      "549\tPvalb,GABA,Neuronal\n",
      "391\tL5/6NP,Gluta,Neuronal\n",
      "380\tSst,GABA,Neuronal\n",
      "274\tVLMC,VLMC,Non-Neuronal\n",
      "266\tPeri,Peri,Non-Neuronal\n",
      "205\tVip,GABA,Neuronal\n",
      "198\tSMC,SMC,Non-Neuronal\n",
      "185\tL6b,Gluta,Neuronal\n",
      "180\tLamp5,GABA,Neuronal\n",
      "75\tSncg,GABA,Neuronal\n",
      "\n",
      "10 clusters (only via 'cluster_class')\n",
      "8881\tGluta\n",
      "2001\tOligo\n",
      "1803\tAstro\n",
      "1389\tGABA\n",
      "1294\tother\n",
      "1039\tEndo\n",
      "711\tMicro\n",
      "274\tVLMC\n",
      "266\tPeri\n",
      "198\tSMC\n"
     ]
    }
   ],
   "source": [
    "%%bash\n",
    "\n",
    "sample_dir=\"$HOME/noble_lab/repos/Chromatin_Analysis_MOp/data/MOp_wt\"\n",
    "biorep=\"$sample_dir/biorep1_techrep1\"\n",
    "\n",
    "# # ==== Count cells & clusters\n",
    "\n",
    "# Number of cells\n",
    "echo -e $(grep -v '^[\"#]' \"$biorep/cell_data.csv\" | wc -l)\" cells (lines)\"\n",
    "\n",
    "# Number of clusters\n",
    "nclust_sub=$( grep -v '^[\"#]' \"$biorep/cell_data.csv\" | cut -d ',' -f 8 | sort | sed 's/ //g' | uniq -c | awk '{ print $1 \"\\t\" $2 }' | sort -k1,1nr )\n",
    "echo -e \"\\n\"$(echo -e \"$nclust_sub\" | wc -l)\" clusters (only via 'cluster_subclass')\"\n",
    "nclust=$( grep -v '^[\"#]' \"$biorep/cell_data.csv\" | cut -d ',' -f 8-10 | sort | sed 's/ //g' | uniq -c | awk '{ print $1 \"\\t\" $2 }' | sort -k1,1nr )\n",
    "echo -e $(echo -e \"$nclust\" | wc -l)\" clusters (via combo of 'cluster_subclass, cluster_class, neuron_identity'):\"\n",
    "echo -e \"$nclust\"\n",
    "\n",
    "# Number of clusters (only via cluster_class)\n",
    "nclust_class=$( grep -v '^[\"#]' \"$biorep/cell_data.csv\" | cut -d ',' -f 9 | sort | sed 's/ //g' | uniq -c | awk '{ print $1 \"\\t\" $2 }' | sort -k1,1nr )\n",
    "echo -e \"\\n\"$(echo -e \"$nclust_class\" | wc -l)\" clusters (only via 'cluster_class')\"\n",
    "echo -e \"$nclust_class\""
   ]
  },
  {
   "cell_type": "markdown",
   "id": "c0c6078e-1081-4046-8c27-bb6ba238a1fb",
   "metadata": {
    "jp-MarkdownHeadingCollapsed": true
   },
   "source": [
    "## Extracting relevant information"
   ]
  },
  {
   "cell_type": "code",
   "execution_count": 211,
   "id": "a46c667c-bcc7-4899-ae8c-ee5513fe1d31",
   "metadata": {},
   "outputs": [
    {
     "name": "stdout",
     "output_type": "stream",
     "text": [
      "biorep3_techrep1\n",
      "biorep1_techrep1\n",
      "biorep2_techrep1\n",
      "biorep3_techrep2\n"
     ]
    }
   ],
   "source": [
    "%%bash\n",
    "\n",
    "sample_dir=\"$HOME/noble_lab/repos/Chromatin_Analysis_MOp/data/MOp_wt\"\n",
    "\n",
    "# ==== Reformat relevant columns from 'cell_data.csv':\n",
    "# 1 \tCell_ID\n",
    "# 8 \tcluster_subclass\n",
    "# 9 \tcluster_class\n",
    "# 10\tneuron_identity\n",
    "\n",
    "# # Testing on one biorep\n",
    "# biorep=\"$sample_dir/biorep1_techrep1\"\n",
    "# rep_id=$(basename \"$biorep\" | sed 's/_/./;s/[A-z]*//g' )\n",
    "# awk -F ',' -v rep_id=\"$rep_id\" 'BEGIN{OFS=\",\"}{ if ($(NF-1) != \"\"){ \n",
    "#     if ($1 ~ /Cell_ID/){ print \"#rep_id\", \"#\" tolower($10), \"#\" tolower($9), \"#\" tolower($8), \"#cell_id\" }\n",
    "# \t  else { gsub(/ /, \"_\", $8); print rep_id, tolower($10), tolower($9), tolower($8), $1 } } }' \"$biorep/cell_data.csv\" | sort -t ',' -k2,5 | head  | tr ',' '\\t'\n",
    "\n",
    "\n",
    "for biorep in $( find \"$sample_dir\" -type d -name 'biorep*_techrep*' ); do\n",
    "\tif [ -f \"$biorep/cells.csv\" ]; then\n",
    "\t\tcontinue\n",
    "\tfi\n",
    "    basename \"$biorep\"\n",
    "\tif [ ! -f \"$biorep/cell_data.csv\" ] & [ -f \"$biorep/cell_data.csv.gz\" ]; then\n",
    "\t\tgunzip \"$biorep/cell_data.csv.gz\"\n",
    "\tfi\n",
    "\n",
    "    rep_id=$(basename \"$biorep\" | sed 's/_/./;s/[A-z]*//g' )\n",
    "    awk -F ',' -v rep_id=\"$rep_id\" 'BEGIN{OFS=\",\"}{ if ($(NF-1) != \"\"){ \n",
    "        if ($1 ~ /Cell_ID/){ print \"#rep_id\", \"#\" tolower($10), \"#\" tolower($9), \"#\" tolower($8), \"#cell_id\" }\n",
    "        else { gsub(/ /, \"_\", $8); print rep_id, tolower($10), tolower($9), tolower($8), $1 } } }' \"$biorep/cell_data.csv\" | sort -t ',' -k2,5 > \"$biorep/cells.csv\"\n",
    "\n",
    "\tgzip \"$biorep/cell_data.csv\"\n",
    "done"
   ]
  },
  {
   "cell_type": "code",
   "execution_count": 222,
   "id": "f29aeaf2-b8dd-4bef-8c7c-6289587dc599",
   "metadata": {},
   "outputs": [],
   "source": [
    "%%bash\n",
    "\n",
    "sample_dir=\"$HOME/noble_lab/repos/Chromatin_Analysis_MOp/data/MOp_wt\"\n",
    "\n",
    "# ==== Reformat relevant columns from 'dna_spot_trace_core.csv':\n",
    "# 2 \tTrace_ID  (fovXX_cellXX_chrXX_chromatidXX)\n",
    "# 3 \tX\n",
    "# 4 \tY\n",
    "# 5 \tZ\n",
    "# 7 \tChrom_Start\n",
    "# 8 \tChrom_End\n",
    "# 9 \tChrom_order\n",
    "# 10\tCell_ID\n",
    "\n",
    "# # Testing on one biorep\n",
    "# biorep=\"$sample_dir/biorep1_techrep1\"\n",
    "# rep_id=$(basename \"$biorep\" | sed 's/_/./;s/[A-z]*//g' )\n",
    "# awk -F ',' -v rep_id=\"$rep_id\" 'BEGIN{OFS=\",\"}{ if ($(NF-1) != \"\"){ \n",
    "# \ttmp=$9\",\"$7\",\"$8\",\"$3\",\"$4\",\"$5;\n",
    "# \tif ($2 == \"Trace_ID\"){ molecule=\"#rep_id,#cell_id,#chrom,#hmlg\"; tmp=\"#\"gensub(/,/, \",#\", \"g\", tolower(tmp)) }\n",
    "# \telse { molecule=rep_id\",\"$10\",\"gensub(/.+_.+_(.+)_(.+)/, \"\\\\1,\\\\2\", \"g\", $2) };\n",
    "# \tprint molecule, tmp } }' \"$biorep/dna_spot_trace_core.csv\" | sort -t ',' -k2,2 -k3,3n -k4,4n -k5,5n | head | tr ',' '\\t' | sed -r 's/(\\.[0-9])[0-9]*/\\1/g'\n",
    "\n",
    "\n",
    "for biorep in $( find \"$sample_dir\" -type d -name 'biorep*_techrep*' ); do\n",
    "\tif [ -f \"$biorep/dna_merfish.csv\" ]; then\n",
    "\t\tcontinue\n",
    "\tfi\n",
    "    basename \"$biorep\"\n",
    "\tif [ ! -f \"$biorep/dna_spot_trace_core.csv\" ] & [ -f \"$biorep/dna_spot_trace_core.csv.gz\" ]; then\n",
    "\t\tgunzip \"$biorep/dna_spot_trace_core.csv.gz\"\n",
    "\tfi\n",
    "\n",
    "    rep_id=$(basename \"$biorep\" | sed 's/_/./;s/[A-z]*//g' )\n",
    "    awk -F ',' -v rep_id=\"$rep_id\" 'BEGIN{OFS=\",\"}{ if ($(NF-1) != \"\"){ \n",
    "    \ttmp=$9\",\"$7\",\"$8\",\"$3\",\"$4\",\"$5;\n",
    "    \tif ($2 == \"Trace_ID\"){ molecule=\"#rep_id,#cell_id,#chrom,#hmlg\"; tmp=\"#\"gensub(/,/, \",#\", \"g\", tolower(tmp)) }\n",
    "    \telse { molecule=rep_id\",\"$10\",\"gensub(/.+_.+_(.+)_(.+)/, \"\\\\1,\\\\2\", \"g\", $2) };\n",
    "    \tprint molecule, tmp } }' \"$biorep/dna_spot_trace_core.csv\" | sort -t ',' -k2,2 -k3,3n -k4,4n -k5,5n > \"$biorep/dna_merfish.csv\"\n",
    "\n",
    "\tgzip \"$biorep/dna_spot_trace_core.csv\"\n",
    "done"
   ]
  },
  {
   "cell_type": "markdown",
   "id": "071682fe-cdba-45e3-b0ea-67a4206fc899",
   "metadata": {},
   "source": [
    "## Consolidating data across bioreps (excluding secondary tech reps per biorep)"
   ]
  },
  {
   "cell_type": "code",
   "execution_count": 223,
   "id": "b8117d33-dc2a-4b11-9ae1-f73162eabf5a",
   "metadata": {},
   "outputs": [],
   "source": [
    "%%bash\n",
    "\n",
    "sample_dir=\"$HOME/noble_lab/repos/Chromatin_Analysis_MOp/data/MOp_wt\"\n",
    "\n",
    "allreps_dir=\"$sample_dir/all_techrep1\"\n",
    "cells_file=\"$allreps_dir/cells.csv\"\n",
    "\n",
    "# ==== Consolidate cells across bioreps (1st techrep only)\n",
    "\n",
    "mkdir -p \"$allreps_dir\"\n",
    "head -n 1 $(find \"$sample_dir\" -type f -path '*/biorep*_techrep1/cells.csv' | head -n 1) > \"$cells_file\" # Write header\n",
    "grep -r \"$sample_dir/\"biorep*_techrep1/cells.csv -hve '^#' | sort -t ',' -k1,5 >> \"$cells_file\" # Write cells"
   ]
  },
  {
   "cell_type": "code",
   "execution_count": 224,
   "id": "c43add7a-dd12-4df9-83af-71a16ef44d39",
   "metadata": {},
   "outputs": [
    {
     "name": "stdout",
     "output_type": "stream",
     "text": [
      "47999 cells (lines)\n",
      "\n",
      "22 clusters (only via 'cluster_subclass')\n",
      "22 clusters (via combo of 'cluster_subclass, cluster_class, neuron_identity'):\n",
      "5433\tnon-neuronal,oligo,oligo\n",
      "5348\tneuronal,gluta,l6_ct\n",
      "4833\tnon-neuronal,astro,astro\n",
      "4721\tneuronal,gluta,l2/3_it\n",
      "3507\tnon-neuronal,endo,endo\n",
      "2989\tneuronal,gluta,l5_it\n",
      "2945\tneuronal,gluta,l4/5_it\n",
      "2520\tother,other,other\n",
      "2366\tneuronal,gluta,l6_it\n",
      "2150\tneuronal,gluta,l5_et\n",
      "1953\tnon-neuronal,oligo,opc\n",
      "1745\tnon-neuronal,micro,micro\n",
      "1367\tneuronal,gaba,pvalb\n",
      "1001\tneuronal,gaba,sst\n",
      "955\tneuronal,gluta,l6b\n",
      "891\tnon-neuronal,peri,peri\n",
      "791\tneuronal,gluta,l5/6_np\n",
      "716\tnon-neuronal,vlmc,vlmc\n",
      "571\tnon-neuronal,smc,smc\n",
      "500\tneuronal,gaba,vip\n",
      "496\tneuronal,gaba,lamp5\n",
      "201\tneuronal,gaba,sncg\n",
      "\n",
      "Number of (subclass-based) clusters with >= [cutoff] cells (besides 'other')\n",
      "13 clusters with >= 1000 cells\n",
      "9 clusters with >= 2000 cells\n",
      "\n",
      "10 clusters (only via 'cluster_class')\n",
      "22265\tgluta\n",
      "7386\toligo\n",
      "4833\tastro\n",
      "3565\tgaba\n",
      "3507\tendo\n",
      "2520\tother\n",
      "1745\tmicro\n",
      "891\tperi\n",
      "716\tvlmc\n",
      "571\tsmc\n"
     ]
    }
   ],
   "source": [
    "%%bash\n",
    "\n",
    "sample_dir=\"$HOME/noble_lab/repos/Chromatin_Analysis_MOp/data/MOp_wt\"\n",
    "\n",
    "allreps_dir=\"$sample_dir/all_techrep1\"\n",
    "cells_file=\"$allreps_dir/cells.csv\"\n",
    "\n",
    "# ==== Count cells & clusters across all bioreps\n",
    "\n",
    "# Number of cells\n",
    "echo -e $(grep -v '^[\"#]' \"$cells_file\" | wc -l)\" cells (lines)\"\n",
    "\n",
    "# Number of clusters\n",
    "nclust=$( grep -v '^[\"#]' \"$cells_file\" | cut -d ',' -f 4 | sort | sed 's/ //g' | uniq -c | awk '{ print $1 \"\\t\" $2 }' | sort -k1,1nr )\n",
    "echo -e \"\\n\"$(echo -e \"$nclust\" | wc -l)\" clusters (only via 'cluster_subclass')\"\n",
    "nclust_trio=$( grep -v '^[\"#]' \"$cells_file\" | cut -d ',' -f 2-4 | sort | sed 's/ //g' | uniq -c | awk '{ print $1 \"\\t\" $2 }' | sort -k1,1nr )\n",
    "echo -e $(echo -e \"$nclust_trio\" | wc -l)\" clusters (via combo of 'cluster_subclass, cluster_class, neuron_identity'):\"\n",
    "echo -e \"$nclust_trio\"\n",
    "\n",
    "echo -e \"\\nNumber of (subclass-based) clusters with >= [cutoff] cells (besides 'other')\"\n",
    "for cutoff in 1000 2000; do\n",
    "    echo -e $( echo -e \"$nclust\" | awk -vcutoff=\"$cutoff\" '{if (($1 >= cutoff) && ($2 != \"other\")) {print $0}}' | wc -l )\" clusters with >= $cutoff cells\"\n",
    "done\n",
    "\n",
    "# Number of clusters (only via cluster_class)\n",
    "nclust_class=$( grep -v '^[\"#]' \"$cells_file\" | cut -d ',' -f 3 | sort | sed 's/ //g' | uniq -c | awk '{ print $1 \"\\t\" $2 }' | sort -k1,1nr )\n",
    "echo -e \"\\n\"$(echo -e \"$nclust_class\" | wc -l)\" clusters (only via 'cluster_class')\"\n",
    "echo -e \"$nclust_class\""
   ]
  },
  {
   "cell_type": "code",
   "execution_count": 226,
   "id": "24e85df1-528d-407b-aae1-798cb0ffd65d",
   "metadata": {},
   "outputs": [
    {
     "name": "stdout",
     "output_type": "stream",
     "text": [
      "#cell_id,#rep_id,#chrom,#hmlg,#chrom_order,#chrom_start,#chrom_end,#x,#y,#z,#cluster_subclass\n",
      "100066287421962522127773928555604620338,1.1,1,1,0,3742742,3759944,199.11620879999998,181.73214,6.241104125,oligo\n",
      "100066287421962522127773928555604620338,1.1,1,1,1,6245958,6258969,198.89543519999998,181.7166636,5.747276583333334,oligo\n",
      "100066287421962522127773928555604620338,1.1,1,1,3,9627926,9637875,198.8128656,182.5055964,5.478145583333334,oligo\n",
      "100066287421962522127773928555604620338,1.1,1,1,5,11247744,11257616,198.67533479999992,181.41873119999997,6.244514166666666,oligo\n",
      "100066287421962522127773928555604620338,1.1,1,1,6,13741888,13757922,198.06651720000002,181.65839039999997,6.576315416666667,oligo\n",
      "100066287421962522127773928555604620338,1.1,1,1,12,21732182,21745770,197.86926600000004,181.2541572,5.695393,oligo\n",
      "100066287421962522127773928555604620338,1.1,1,1,14,23749258,23759965,197.374518,181.1868192,6.073499333333333,oligo\n",
      "100066287421962522127773928555604620338,1.1,1,1,15,23956510,23970234,197.8452432,181.31932079999999,6.037375666666667,oligo\n",
      "100066287421962522127773928555604620338,1.1,1,1,17,26243246,26258573,198.7008012,181.03165919999998,5.842157,oligo\n"
     ]
    }
   ],
   "source": [
    "%%bash\n",
    "\n",
    "sample_dir=\"$HOME/noble_lab/repos/Chromatin_Analysis_MOp/data/MOp_wt\"\n",
    "ncells_cutoff=2000\n",
    "\n",
    "allreps_dir=\"$sample_dir/all_techrep1\"\n",
    "cells_file=\"$allreps_dir/cells.csv\"\n",
    "\n",
    "# ==== Get cells belonging to 'top' clusters (clusters with >= cutoff cells)\n",
    "clusters_all=$( grep -v '^[\"#]' \"$cells_file\" | cut -d ',' -f 4 | sort | sed 's/ //g' | uniq -c | awk '{ print $1 \"\\t\" $2 }' | sort -k1,1nr )\n",
    "clusters_top=$( echo -e \"$clusters_all\" | awk -vcutoff=\"$ncells_cutoff\" '{if (($1 >= cutoff) && ($2 != \"other\")) {print $2}}' )\n",
    "nclust_top=$( echo -e \"$clusters_top\" | wc -l )\n",
    "\n",
    "clusters_top_re=\"(^\"$( echo -e \"$clusters_top\" | tr '\\n' '|' | sed 's/|$//;s/|/$|^/g;s:/:.:g' )\"$)\"\n",
    "cells_topclust_file=\"$allreps_dir/cells.top${nclust_top}clust.csv\"\n",
    "    \n",
    "head -n 1 \"$cells_file\" | cut -d ',' -f 1,4,5 > \"$cells_topclust_file\"\n",
    "awk -F',' 'BEGIN{OFS=\",\"}{ if ($4 ~ /'\"$clusters_top_re\"'/){ print $1, $4, $5 } }' \"$cells_file\"  >> \"$cells_topclust_file\"\n",
    "\n",
    "\n",
    "# ==== Label DNA MERFISH data from cells belonging to 'top' clusters (clusters with >= cutoff cells); discard data for other cells\n",
    "\n",
    "dna_allreps_file=\"$allreps_dir/dna_merfish.top${nclust_top}clust.csv\"\n",
    "\n",
    "# FIXME put header in dna_allreps_file\n",
    "    \n",
    "# for biorep in $( find \"$sample_dir\" -type d -name 'biorep*_techrep1' ); do\n",
    "\n",
    "biorep=\"$sample_dir/biorep1_techrep1\"\n",
    "rep_id=$(basename \"$biorep\" | sed 's/_/./;s/[A-z]*//g' )\n",
    "\n",
    "\n",
    "# awk -F ',' -v rep_id=\"$rep_id\" '{ if (($1 == rep_id) || ($1 ~ /rep_id/)){ print $2 \",\" $3 } }' \"$cells_topclust_file\" | sort -t ',' -k 2b,2 | head; echo; echo\n",
    "    \n",
    "awk -F ',' -v rep_id=\"$rep_id\" '{ if (($1 == rep_id) || ($1 ~ /rep_id/)){ print $2 \",\" $3 } }' \"$cells_topclust_file\" | sort -t ',' -k 2b,2 | \\\n",
    "    join -t ',' -j 2 --header --check-order \"$biorep/dna_merfish.csv\" - | grep -v '^#' >> \"$dna_allreps_file\"\n",
    "\n",
    "\n",
    "# ==== Segregate DNA MERFISH data by cluster\n",
    "\n",
    "# # Make directories per cluster, write header for sorted dna_merfish file\n",
    "# for cluster in $clusters_top; do\n",
    "#     mkdir -p \"$allreps_dir/$cluster\"\n",
    "#     head -n 1 $(find \"$sample_dir\" -type f -path '*/biorep*_techrep1/dna_merfish.csv' | head -n 1) > \"$allreps_dir/$cluster/dna_merfish.$cluster.csv\"\n",
    "# done\n",
    "\n",
    "# awk -F',' -v outdir=\"$allreps_dir\" 'BEGIN{OFS=\",\"}{ if ($1 !~ /^#/) \\\n",
    "#     { print $1, $2, $3, $4, $5, $6, $7, $8, $9, $10 > outdir\"/\"$11\"/dna_merfish.\"$11\".csv\" } }' \"$dna_allreps_file\""
   ]
  },
  {
   "cell_type": "code",
   "execution_count": null,
   "id": "ca48d06b-fff8-4cee-bf0d-e41638d416c4",
   "metadata": {},
   "outputs": [],
   "source": []
  }
 ],
 "metadata": {
  "kernelspec": {
   "display_name": "Python 3 (ipykernel)",
   "language": "python",
   "name": "python3"
  },
  "language_info": {
   "codemirror_mode": {
    "name": "ipython",
    "version": 3
   },
   "file_extension": ".py",
   "mimetype": "text/x-python",
   "name": "python",
   "nbconvert_exporter": "python",
   "pygments_lexer": "ipython3",
   "version": "3.11.11"
  }
 },
 "nbformat": 4,
 "nbformat_minor": 5
}
